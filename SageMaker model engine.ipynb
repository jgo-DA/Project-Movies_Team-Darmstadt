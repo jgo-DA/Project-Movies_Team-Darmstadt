{
 "cells": [
  {
   "cell_type": "markdown",
   "metadata": {},
   "source": [
    "# The files have been generated in Databricks and provided on the S3 bucket"
   ]
  },
  {
   "cell_type": "code",
   "execution_count": 1,
   "metadata": {},
   "outputs": [
    {
     "name": "stdout",
     "output_type": "stream",
     "text": [
      "Requirement already satisfied: boto3 in /home/julian/anaconda3/lib/python3.8/site-packages (1.16.4)\n",
      "Requirement already satisfied: jmespath<1.0.0,>=0.7.1 in /home/julian/anaconda3/lib/python3.8/site-packages (from boto3) (0.10.0)\n",
      "Requirement already satisfied: s3transfer<0.4.0,>=0.3.0 in /home/julian/anaconda3/lib/python3.8/site-packages (from boto3) (0.3.3)\n",
      "Requirement already satisfied: botocore<1.20.0,>=1.19.4 in /home/julian/anaconda3/lib/python3.8/site-packages (from boto3) (1.19.4)\n",
      "Requirement already satisfied: urllib3<1.26,>=1.25.4; python_version != \"3.4\" in /home/julian/anaconda3/lib/python3.8/site-packages (from botocore<1.20.0,>=1.19.4->boto3) (1.25.10)\n",
      "Requirement already satisfied: python-dateutil<3.0.0,>=2.1 in /home/julian/anaconda3/lib/python3.8/site-packages (from botocore<1.20.0,>=1.19.4->boto3) (2.8.1)\n",
      "Requirement already satisfied: six>=1.5 in /home/julian/anaconda3/lib/python3.8/site-packages (from python-dateutil<3.0.0,>=2.1->botocore<1.20.0,>=1.19.4->boto3) (1.15.0)\n"
     ]
    }
   ],
   "source": [
    "!pip install boto3"
   ]
  },
  {
   "cell_type": "code",
   "execution_count": 2,
   "metadata": {},
   "outputs": [
    {
     "data": {
      "text/plain": [
       "Session(region_name='eu-central-1')"
      ]
     },
     "execution_count": 2,
     "metadata": {},
     "output_type": "execute_result"
    }
   ],
   "source": [
    "import boto3\n",
    "\n",
    "session = boto3.Session() # Grabs session details directly from aws configuration in EC2 instance running the Notebook server\n",
    "session"
   ]
  },
  {
   "cell_type": "code",
   "execution_count": 3,
   "metadata": {},
   "outputs": [
    {
     "name": "stdout",
     "output_type": "stream",
     "text": [
      "Bucket 'sjf-project' is accessable.\n"
     ]
    }
   ],
   "source": [
    "# Open S3 bucket\n",
    "s3 = boto3.resource('s3')\n",
    "\n",
    "bucket_name = 'sjf-project'\n",
    "\n",
    "bucket = s3.Bucket(bucket_name)\n",
    "response = f'Bucket \\'{bucket_name}\\' is accessable.'\n",
    "print(response)"
   ]
  },
  {
   "cell_type": "code",
   "execution_count": 8,
   "metadata": {},
   "outputs": [
    {
     "name": "stdout",
     "output_type": "stream",
     "text": [
      "Requirement already satisfied: sagemaker in /home/julian/anaconda3/lib/python3.8/site-packages (2.16.3)\n",
      "Requirement already satisfied: numpy>=1.9.0 in /home/julian/anaconda3/lib/python3.8/site-packages (from sagemaker) (1.19.1)\n",
      "Requirement already satisfied: protobuf>=3.1 in /home/julian/anaconda3/lib/python3.8/site-packages (from sagemaker) (3.14.0)\n",
      "Requirement already satisfied: packaging>=20.0 in /home/julian/anaconda3/lib/python3.8/site-packages (from sagemaker) (20.4)\n",
      "Requirement already satisfied: importlib-metadata>=1.4.0 in /home/julian/anaconda3/lib/python3.8/site-packages (from sagemaker) (1.7.0)\n",
      "Requirement already satisfied: smdebug-rulesconfig==0.1.5 in /home/julian/anaconda3/lib/python3.8/site-packages (from sagemaker) (0.1.5)\n",
      "Requirement already satisfied: google-pasta in /home/julian/anaconda3/lib/python3.8/site-packages (from sagemaker) (0.2.0)\n",
      "Requirement already satisfied: protobuf3-to-dict>=0.1.5 in /home/julian/anaconda3/lib/python3.8/site-packages (from sagemaker) (0.1.5)\n",
      "Requirement already satisfied: boto3>=1.14.12 in /home/julian/anaconda3/lib/python3.8/site-packages (from sagemaker) (1.16.4)\n",
      "Requirement already satisfied: six>=1.9 in /home/julian/anaconda3/lib/python3.8/site-packages (from protobuf>=3.1->sagemaker) (1.15.0)\n",
      "Requirement already satisfied: pyparsing>=2.0.2 in /home/julian/anaconda3/lib/python3.8/site-packages (from packaging>=20.0->sagemaker) (2.4.7)\n",
      "Requirement already satisfied: zipp>=0.5 in /home/julian/anaconda3/lib/python3.8/site-packages (from importlib-metadata>=1.4.0->sagemaker) (3.1.0)\n",
      "Requirement already satisfied: jmespath<1.0.0,>=0.7.1 in /home/julian/anaconda3/lib/python3.8/site-packages (from boto3>=1.14.12->sagemaker) (0.10.0)\n",
      "Requirement already satisfied: s3transfer<0.4.0,>=0.3.0 in /home/julian/anaconda3/lib/python3.8/site-packages (from boto3>=1.14.12->sagemaker) (0.3.3)\n",
      "Requirement already satisfied: botocore<1.20.0,>=1.19.4 in /home/julian/anaconda3/lib/python3.8/site-packages (from boto3>=1.14.12->sagemaker) (1.19.4)\n",
      "Requirement already satisfied: urllib3<1.26,>=1.25.4; python_version != \"3.4\" in /home/julian/anaconda3/lib/python3.8/site-packages (from botocore<1.20.0,>=1.19.4->boto3>=1.14.12->sagemaker) (1.25.10)\n",
      "Requirement already satisfied: python-dateutil<3.0.0,>=2.1 in /home/julian/anaconda3/lib/python3.8/site-packages (from botocore<1.20.0,>=1.19.4->boto3>=1.14.12->sagemaker) (2.8.1)\n"
     ]
    },
    {
     "name": "stderr",
     "output_type": "stream",
     "text": [
      "The method get_image_uri has been renamed in sagemaker>=2.\n",
      "See: https://sagemaker.readthedocs.io/en/stable/v2.html for details.\n"
     ]
    }
   ],
   "source": [
    "# Use a previously-built, AWS XGBoost model for training\n",
    "\n",
    "!pip install sagemaker\n",
    "\n",
    "import sagemaker\n",
    "\n",
    "from sagemaker.amazon.amazon_estimator import get_image_uri\n",
    "# container = get_image_uri(***insert correct arguments here***) \n",
    "\n",
    "container = get_image_uri(region_name=boto3.Session().region_name,\n",
    "                          repo_name='xgboost',\n",
    "                          repo_version='1.0-1')"
   ]
  },
  {
   "cell_type": "code",
   "execution_count": 9,
   "metadata": {},
   "outputs": [
    {
     "name": "stderr",
     "output_type": "stream",
     "text": [
      "The class sagemaker.session.s3_input has been renamed in sagemaker>=2.\n",
      "See: https://sagemaker.readthedocs.io/en/stable/v2.html for details.\n",
      "The class sagemaker.session.s3_input has been renamed in sagemaker>=2.\n",
      "See: https://sagemaker.readthedocs.io/en/stable/v2.html for details.\n"
     ]
    }
   ],
   "source": [
    "# Create pointers to the S3 train and test datasets\n",
    "\n",
    "s3_path = f\"s3://{bucket_name}/\"\n",
    "\n",
    "\n",
    "from sagemaker.session import s3_input\n",
    "\n",
    "s3_input_train = sagemaker.session.s3_input(s3_data=f\"{s3_path}train_sample.csv\", content_type=\"text/csv\")\n",
    "s3_input_valid = sagemaker.session.s3_input(s3_data=f\"{s3_path}valid_sample.csv\", content_type=\"text/csv\")\n",
    "#s3_input_test = sagemaker.session.s3_input(s3_data=f\"{s3_path}test.csv\", content_type=\"text/csv\")"
   ]
  },
  {
   "cell_type": "code",
   "execution_count": 10,
   "metadata": {},
   "outputs": [],
   "source": [
    "# Create a SageMaker Session\n",
    "\n",
    "# INSERT CODE HERE\n",
    "##From LiveCoding\n",
    "\n",
    "sagemaker_session = sagemaker.Session(boto_session=session)\n",
    "\n",
    "#The following IAM role ARN was taken from the flutz notebook listed in the SageMaker console:\n",
    "sm_execution_role = 'arn:aws:iam::898627427171:role/service-role/AmazonSageMaker-ExecutionRole-20201106T104926'\n"
   ]
  },
  {
   "cell_type": "code",
   "execution_count": 11,
   "metadata": {},
   "outputs": [
    {
     "name": "stderr",
     "output_type": "stream",
     "text": [
      "train_instance_count has been renamed in sagemaker>=2.\n",
      "See: https://sagemaker.readthedocs.io/en/stable/v2.html for details.\n",
      "train_instance_type has been renamed in sagemaker>=2.\n",
      "See: https://sagemaker.readthedocs.io/en/stable/v2.html for details.\n"
     ]
    }
   ],
   "source": [
    "# Create an XGBoost Estimator\n",
    "\n",
    "# INSERT CODE HERE\n",
    "\n",
    "output_path = s3_path + \"estimator\"\n",
    "\n",
    "\n",
    "# From https://docs.aws.amazon.com/sagemaker/latest/dg/sagemaker-algo-docker-registry-paths.html \n",
    "# XGBoost ecr path is: 492215442770.dkr.ecr.eu-central-1.amazonaws.com\n",
    "ecr_path = '492215442770.dkr.ecr.eu-central-1.amazonaws.com'\n",
    "\n",
    "\n",
    "xgboost = sagemaker.estimator.Estimator(f\"{ecr_path}/sagemaker-xgboost:1.0-1-cpu-py3\",\n",
    "                              sm_execution_role,\n",
    "                              train_instance_count=1,\n",
    "                              train_instance_type=\"ml.m5.large\",\n",
    "                              output_path=output_path,\n",
    "                              sagemaker_session=sagemaker_session,\n",
    "                              base_job_name=\"sjf-xgboost\")\n"
   ]
  },
  {
   "cell_type": "code",
   "execution_count": 12,
   "metadata": {},
   "outputs": [],
   "source": [
    "# Select the your specific hyperparameters (Optional)\n",
    "\n",
    "# INSERT CODE HERE\n",
    "\n",
    "# From https://docs.aws.amazon.com/sagemaker/latest/dg/xgboost_hyperparameters.html\n",
    "\n",
    "xgboost.set_hyperparameters(\n",
    "    eta=0.3,                         # default 0.3 range 0 - 1\n",
    "    num_round=30,                    # required | valid values: int | The number of rounds to run the training.\n",
    "    objective = 'reg:squarederror',  # Examples: reg:logistic, multi:softmax, reg:squarederror [default] \n",
    "    )\n"
   ]
  },
  {
   "cell_type": "code",
   "execution_count": 14,
   "metadata": {},
   "outputs": [
    {
     "name": "stdout",
     "output_type": "stream",
     "text": [
      "2020-11-17 10:45:53 Starting - Starting the training job...\n",
      "2020-11-17 10:45:55 Starting - Launching requested ML instances......\n",
      "2020-11-17 10:47:01 Starting - Preparing the instances for training...\n",
      "2020-11-17 10:47:47 Downloading - Downloading input data...\n",
      "2020-11-17 10:48:14 Training - Downloading the training image...\n",
      "2020-11-17 10:48:52 Uploading - Uploading generated training model\n",
      "2020-11-17 10:48:52 Completed - Training job completed\n",
      "\u001b[34mINFO:sagemaker-containers:Imported framework sagemaker_xgboost_container.training\u001b[0m\n",
      "\u001b[34mINFO:sagemaker-containers:Failed to parse hyperparameter objective value reg:squarederror to Json.\u001b[0m\n",
      "\u001b[34mReturning the value itself\u001b[0m\n",
      "\u001b[34mINFO:sagemaker-containers:No GPUs detected (normal if no gpus installed)\u001b[0m\n",
      "\u001b[34mINFO:sagemaker_xgboost_container.training:Running XGBoost Sagemaker in algorithm mode\u001b[0m\n",
      "\u001b[34mINFO:root:Determined delimiter of CSV input is ','\u001b[0m\n",
      "\u001b[34mINFO:root:Determined delimiter of CSV input is ','\u001b[0m\n",
      "\u001b[34m[10:48:41] 1037x32 matrix with 33184 entries loaded from /opt/ml/input/data/train?format=csv&label_column=0&delimiter=,\u001b[0m\n",
      "\u001b[34mINFO:root:Single node training.\u001b[0m\n",
      "\u001b[34mINFO:root:Train matrix has 1037 rows\u001b[0m\n",
      "\u001b[34m[10:48:41] WARNING: /workspace/src/learner.cc:328: \u001b[0m\n",
      "\u001b[34mParameters: { num_round } might not be used.\n",
      "\n",
      "  This may not be accurate due to some parameters are only used in language bindings but\n",
      "  passed down to XGBoost core.  Or some parameters are not used but slip through this\n",
      "  verification. Please open an issue if you find above cases.\n",
      "\n",
      "\u001b[0m\n",
      "\u001b[34m[0]#011train-rmse:4.84690\u001b[0m\n",
      "\u001b[34m[1]#011train-rmse:3.42914\u001b[0m\n",
      "\u001b[34m[2]#011train-rmse:2.43767\u001b[0m\n",
      "\u001b[34m[3]#011train-rmse:1.75434\u001b[0m\n",
      "\u001b[34m[4]#011train-rmse:1.28026\u001b[0m\n",
      "\u001b[34m[5]#011train-rmse:0.95727\u001b[0m\n",
      "\u001b[34m[6]#011train-rmse:0.74341\u001b[0m\n",
      "\u001b[34m[7]#011train-rmse:0.60251\u001b[0m\n",
      "\u001b[34m[8]#011train-rmse:0.51796\u001b[0m\n",
      "\u001b[34m[9]#011train-rmse:0.46383\u001b[0m\n",
      "\u001b[34m[10]#011train-rmse:0.43130\u001b[0m\n",
      "\u001b[34m[11]#011train-rmse:0.41110\u001b[0m\n",
      "\u001b[34m[12]#011train-rmse:0.40167\u001b[0m\n",
      "\u001b[34m[13]#011train-rmse:0.39083\u001b[0m\n",
      "\u001b[34m[14]#011train-rmse:0.37541\u001b[0m\n",
      "\u001b[34m[15]#011train-rmse:0.36679\u001b[0m\n",
      "\u001b[34m[16]#011train-rmse:0.36220\u001b[0m\n",
      "\u001b[34m[17]#011train-rmse:0.35518\u001b[0m\n",
      "\u001b[34m[18]#011train-rmse:0.34136\u001b[0m\n",
      "\u001b[34m[19]#011train-rmse:0.33616\u001b[0m\n",
      "\u001b[34m[20]#011train-rmse:0.33127\u001b[0m\n",
      "\u001b[34m[21]#011train-rmse:0.32091\u001b[0m\n",
      "\u001b[34m[22]#011train-rmse:0.31446\u001b[0m\n",
      "\u001b[34m[23]#011train-rmse:0.30458\u001b[0m\n",
      "\u001b[34m[24]#011train-rmse:0.30063\u001b[0m\n",
      "\u001b[34m[25]#011train-rmse:0.29418\u001b[0m\n",
      "\u001b[34m[26]#011train-rmse:0.28592\u001b[0m\n",
      "\u001b[34m[27]#011train-rmse:0.27892\u001b[0m\n",
      "\u001b[34m[28]#011train-rmse:0.27690\u001b[0m\n",
      "\u001b[34m[29]#011train-rmse:0.27541\u001b[0m\n",
      "Training seconds: 65\n",
      "Billable seconds: 65\n"
     ]
    }
   ],
   "source": [
    "# Fit the model\n",
    "\n",
    "# INSERT CODE HERE\n",
    "xgboost.fit({\"train\": s3_input_train})\n"
   ]
  },
  {
   "cell_type": "code",
   "execution_count": 17,
   "metadata": {},
   "outputs": [
    {
     "name": "stdout",
     "output_type": "stream",
     "text": [
      "-----------------!"
     ]
    }
   ],
   "source": [
    "# Deploy your model to an endpoint to perform predictions\n",
    "xgb_predictor = xgboost.deploy(\n",
    "    initial_instance_count = 1, \n",
    "    instance_type = 'ml.t2.medium')     #'ml.m4.xlarge') | 'ml.t2.medium'\n",
    "    "
   ]
  },
  {
   "cell_type": "code",
   "execution_count": 21,
   "metadata": {},
   "outputs": [],
   "source": [
    "# Configure the predictor's serializer and deserializer\n",
    "\n",
    "from sagemaker.predictor import csv_serializer, csv_deserializer\n",
    "\n",
    "xgb_predictor.serializer = csv_serializer\n",
    "xgb_predictor.deserializer = csv_deserializer\n",
    "#xgb_predictor.content_type = \"text/csv\""
   ]
  },
  {
   "cell_type": "code",
   "execution_count": 27,
   "metadata": {},
   "outputs": [
    {
     "name": "stderr",
     "output_type": "stream",
     "text": [
      "The endpoint attribute has been renamed in sagemaker>=2.\n",
      "See: https://sagemaker.readthedocs.io/en/stable/v2.html for details.\n"
     ]
    },
    {
     "data": {
      "text/plain": [
       "'sjf-xgboost-2020-11-17-10-58-57-102'"
      ]
     },
     "execution_count": 27,
     "metadata": {},
     "output_type": "execute_result"
    }
   ],
   "source": [
    "xgb_predictor.endpoint"
   ]
  },
  {
   "cell_type": "markdown",
   "metadata": {},
   "source": [
    "# Predictions"
   ]
  },
  {
   "cell_type": "code",
   "execution_count": 28,
   "metadata": {},
   "outputs": [
    {
     "ename": "AttributeError",
     "evalue": "'DeprecatedClass' object has no attribute 'head'",
     "output_type": "error",
     "traceback": [
      "\u001b[0;31m---------------------------------------------------------------------------\u001b[0m",
      "\u001b[0;31mAttributeError\u001b[0m                            Traceback (most recent call last)",
      "\u001b[0;32m<ipython-input-28-61db89c6004b>\u001b[0m in \u001b[0;36m<module>\u001b[0;34m\u001b[0m\n\u001b[0;32m----> 1\u001b[0;31m \u001b[0ms3_input_valid\u001b[0m\u001b[0;34m.\u001b[0m\u001b[0mhead\u001b[0m\u001b[0;34m(\u001b[0m\u001b[0;34m)\u001b[0m\u001b[0;34m\u001b[0m\u001b[0;34m\u001b[0m\u001b[0m\n\u001b[0m",
      "\u001b[0;31mAttributeError\u001b[0m: 'DeprecatedClass' object has no attribute 'head'"
     ]
    }
   ],
   "source": [
    "s3_input_valid.head()"
   ]
  },
  {
   "cell_type": "code",
   "execution_count": 25,
   "metadata": {},
   "outputs": [
    {
     "ename": "AttributeError",
     "evalue": "'DeprecatedClass' object has no attribute 'iloc'",
     "output_type": "error",
     "traceback": [
      "\u001b[0;31m---------------------------------------------------------------------------\u001b[0m",
      "\u001b[0;31mAttributeError\u001b[0m                            Traceback (most recent call last)",
      "\u001b[0;32m<ipython-input-25-aabe407dcac0>\u001b[0m in \u001b[0;36m<module>\u001b[0;34m\u001b[0m\n\u001b[0;32m----> 1\u001b[0;31m \u001b[0mprediction\u001b[0m \u001b[0;34m=\u001b[0m \u001b[0mxgb_predictor\u001b[0m\u001b[0;34m.\u001b[0m\u001b[0mpredict\u001b[0m\u001b[0;34m(\u001b[0m\u001b[0ms3_input_valid\u001b[0m\u001b[0;34m.\u001b[0m\u001b[0miloc\u001b[0m\u001b[0;34m[\u001b[0m\u001b[0;36m40\u001b[0m\u001b[0;34m]\u001b[0m\u001b[0;34m)\u001b[0m\u001b[0;34m\u001b[0m\u001b[0;34m\u001b[0m\u001b[0m\n\u001b[0m\u001b[1;32m      2\u001b[0m \u001b[0mprediction\u001b[0m\u001b[0;34m\u001b[0m\u001b[0;34m\u001b[0m\u001b[0m\n",
      "\u001b[0;31mAttributeError\u001b[0m: 'DeprecatedClass' object has no attribute 'iloc'"
     ]
    }
   ],
   "source": [
    "#prediction = xgb_predictor.predict(s3_input_valid.iloc[0, 1:])\n",
    "#prediction"
   ]
  },
  {
   "cell_type": "code",
   "execution_count": null,
   "metadata": {},
   "outputs": [],
   "source": []
  }
 ],
 "metadata": {
  "kernelspec": {
   "display_name": "Python 3",
   "language": "python",
   "name": "python3"
  },
  "language_info": {
   "codemirror_mode": {
    "name": "ipython",
    "version": 3
   },
   "file_extension": ".py",
   "mimetype": "text/x-python",
   "name": "python",
   "nbconvert_exporter": "python",
   "pygments_lexer": "ipython3",
   "version": "3.8.3"
  }
 },
 "nbformat": 4,
 "nbformat_minor": 4
}
